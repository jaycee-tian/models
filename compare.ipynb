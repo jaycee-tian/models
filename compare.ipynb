{
 "cells": [
  {
   "cell_type": "code",
   "execution_count": 1,
   "metadata": {},
   "outputs": [],
   "source": [
    "from answers.transformer import Transformer as aTransformer\n",
    "from practice.transformer import Transformer as pTransformer\n",
    "import torch"
   ]
  },
  {
   "cell_type": "code",
   "execution_count": 7,
   "metadata": {},
   "outputs": [
    {
     "name": "stdout",
     "output_type": "stream",
     "text": [
      "tensor(0.0514, grad_fn=<MeanBackward0>)\n",
      "tensor(0.0376, grad_fn=<MeanBackward0>)\n"
     ]
    }
   ],
   "source": [
    "# b s d\n",
    "b = 8\n",
    "s = 20\n",
    "d = 100\n",
    "data = torch.randn(b, s, d)\n",
    "m1 = aTransformer(4, d, 4, 200, 0.1)\n",
    "m2 = pTransformer(d, 200, 4, 0.1, 4)\n",
    "o1 = m1(data)\n",
    "o2 = m2(data)\n",
    "print(o1[0].mean())\n",
    "print(o2[0].mean())\n"
   ]
  },
  {
   "cell_type": "code",
   "execution_count": 8,
   "metadata": {},
   "outputs": [],
   "source": [
    "a = [1,2,3]\n",
    "a1, a2, a3 = a"
   ]
  },
  {
   "cell_type": "code",
   "execution_count": 9,
   "metadata": {},
   "outputs": [
    {
     "name": "stdout",
     "output_type": "stream",
     "text": [
      "1 2 3\n"
     ]
    }
   ],
   "source": [
    "print(a1,a2,a3)"
   ]
  },
  {
   "cell_type": "code",
   "execution_count": null,
   "metadata": {},
   "outputs": [],
   "source": []
  }
 ],
 "metadata": {
  "kernelspec": {
   "display_name": "tian",
   "language": "python",
   "name": "python3"
  },
  "language_info": {
   "codemirror_mode": {
    "name": "ipython",
    "version": 3
   },
   "file_extension": ".py",
   "mimetype": "text/x-python",
   "name": "python",
   "nbconvert_exporter": "python",
   "pygments_lexer": "ipython3",
   "version": "3.9.18"
  }
 },
 "nbformat": 4,
 "nbformat_minor": 2
}
