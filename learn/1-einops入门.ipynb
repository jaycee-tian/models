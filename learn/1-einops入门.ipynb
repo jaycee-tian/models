{
 "cells": [
  {
   "cell_type": "markdown",
   "metadata": {},
   "source": [
    "# einops 自学入门\n",
    "\n",
    "## 常见问题\n",
    "\n",
    "### 1. 为什么叫einops？\n",
    "\n",
    "ein的意思是爱因斯坦（Einstein），ops的意思是操作（operations）。\n",
    "\n",
    "意思是这个操作是爱因斯坦发明的。\n",
    "\n",
    "### 2. einops 是用来干啥的？\n",
    "\n",
    "是用来简化tensor操作的。例如，要把 `x = [b,h,w,c]` 改成 `x = [b,c,h,w]`。"
   ]
  },
  {
   "cell_type": "code",
   "execution_count": 6,
   "metadata": {},
   "outputs": [
    {
     "name": "stdout",
     "output_type": "stream",
     "text": [
      "torch.Size([8, 100, 200, 3])\n"
     ]
    }
   ],
   "source": [
    "import torch\n",
    "b = 8\n",
    "c = 3\n",
    "h = 100\n",
    "w = 200\n",
    "x = torch.randn(b, h , w, c)\n",
    "print(x.shape)"
   ]
  },
  {
   "cell_type": "markdown",
   "metadata": {},
   "source": [
    "原来的操作应该是 `x = x.permute(0,3,1,2)`，要数这个1234就很麻烦。\n",
    "\n",
    "用了einops以后，写法就变成 `x = rearrange(x, 'b h w c -> b c h w')`，更直观，不用再数数了。"
   ]
  },
  {
   "cell_type": "code",
   "execution_count": 8,
   "metadata": {},
   "outputs": [
    {
     "name": "stdout",
     "output_type": "stream",
     "text": [
      "torch.Size([8, 3, 100, 200])\n",
      "torch.Size([8, 3, 100, 200])\n"
     ]
    }
   ],
   "source": [
    "x1 = x.permute(0,3,1,2)\n",
    "print(x1.shape)\n",
    "\n",
    "from einops import rearrange\n",
    "x2 = rearrange(x,'b h w c -> b c h w')\n",
    "print(x2.shape)"
   ]
  },
  {
   "cell_type": "markdown",
   "metadata": {},
   "source": [
    "\n",
    "## 常用的einops方法\n",
    "\n",
    "### 1. 利用 pack 和 unpack 处理 ViT 里的 class token\n",
    "\n",
    "ViT里，patch token [b, n, d] 和 class token [b, d] 需要串起来，得到 [b n+1 d]。\n",
    "\n",
    "经过 transformer 以后，再取出 class token 用于后续的处理。"
   ]
  },
  {
   "cell_type": "code",
   "execution_count": 1,
   "metadata": {},
   "outputs": [
    {
     "name": "stdout",
     "output_type": "stream",
     "text": [
      "torch.Size([8, 257, 256])\n",
      "torch.Size([8, 256])\n",
      "[torch.Size([]), torch.Size([16, 16])]\n"
     ]
    }
   ],
   "source": [
    "import torch\n",
    "from einops import pack, unpack\n",
    "b = 8\n",
    "d = 256\n",
    "h = w = 16\n",
    "patch_tokens = torch.randn(b, h, w, d)\n",
    "class_tokens = torch.randn(b, d)\n",
    "tokens, ps = pack([class_tokens, patch_tokens], 'b * d')\n",
    "class_tokens, patch_tokens = unpack(tokens, ps, 'b * d')\n",
    "print(tokens.shape)\n",
    "print(class_tokens.shape)\n",
    "print(ps)"
   ]
  },
  {
   "cell_type": "markdown",
   "metadata": {},
   "source": [
    "### 2. 维度变换和调整\n",
    "\n",
    "张量经常调换维度的顺序，或者把几个维度合并，或者分开，都可以用 einops 里的 rearrange。\n",
    "\n",
    "但是需要注意，字符串里的符号不能有重复的。"
   ]
  },
  {
   "cell_type": "code",
   "execution_count": 14,
   "metadata": {},
   "outputs": [
    {
     "name": "stdout",
     "output_type": "stream",
     "text": [
      "torch.Size([10, 3, 5, 10, 20, 20])\n"
     ]
    }
   ],
   "source": [
    "from einops import rearrange\n",
    "b = 10\n",
    "c = 3\n",
    "h = 100\n",
    "w = 200\n",
    "p = 20\n",
    "img = torch.randn(b,c,h,w)\n",
    "patches = rearrange(img, 'b c (h ph) (w pw) -> b c h w ph pw', ph = p, pw = p)\n",
    "print(patches.shape)"
   ]
  },
  {
   "cell_type": "code",
   "execution_count": null,
   "metadata": {},
   "outputs": [],
   "source": []
  }
 ],
 "metadata": {
  "kernelspec": {
   "display_name": "tian",
   "language": "python",
   "name": "python3"
  },
  "language_info": {
   "codemirror_mode": {
    "name": "ipython",
    "version": 3
   },
   "file_extension": ".py",
   "mimetype": "text/x-python",
   "name": "python",
   "nbconvert_exporter": "python",
   "pygments_lexer": "ipython3",
   "version": "3.11.8"
  }
 },
 "nbformat": 4,
 "nbformat_minor": 2
}
